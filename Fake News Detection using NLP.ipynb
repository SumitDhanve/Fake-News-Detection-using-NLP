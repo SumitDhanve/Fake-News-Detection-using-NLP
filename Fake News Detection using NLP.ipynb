{
 "cells": [
  {
   "cell_type": "markdown",
   "id": "cd81b43e-a312-4cee-8003-8dfb87d183ed",
   "metadata": {},
   "source": [
    "# Fake News Detection using NLP"
   ]
  },
  {
   "cell_type": "code",
   "execution_count": 1,
   "id": "6b366734-727c-434b-8b8b-da61b7a71e88",
   "metadata": {},
   "outputs": [],
   "source": [
    "import pandas as pd \n",
    "import numpy as np\n",
    "import re \n",
    "import nltk\n",
    "from nltk.tokenize import word_tokenize\n",
    "from nltk.corpus import stopwords\n",
    "from nltk.stem import WordNetLemmatizer"
   ]
  },
  {
   "cell_type": "markdown",
   "id": "b1f99bcd-ba98-4866-b5fb-5188309eb82a",
   "metadata": {},
   "source": [
    "## 1. Data Loading and Labeling"
   ]
  },
  {
   "cell_type": "code",
   "execution_count": 2,
   "id": "a1757f61-f0f4-4dad-ad9f-63b921ad1c96",
   "metadata": {},
   "outputs": [],
   "source": [
    "true_df = pd.read_csv(\"True.csv\")\n",
    "fake_df = pd.read_csv(\"Fake.csv\")"
   ]
  },
  {
   "cell_type": "code",
   "execution_count": 3,
   "id": "7b7d1764-4a1c-4298-a9c3-a9faa61f1cd3",
   "metadata": {},
   "outputs": [
    {
     "data": {
      "text/plain": [
       "(21417, 4)"
      ]
     },
     "execution_count": 3,
     "metadata": {},
     "output_type": "execute_result"
    }
   ],
   "source": [
    "true_df.shape"
   ]
  },
  {
   "cell_type": "code",
   "execution_count": 4,
   "id": "12f57905-f1b4-45b5-a544-af5eee46cc66",
   "metadata": {},
   "outputs": [
    {
     "data": {
      "text/plain": [
       "(23481, 4)"
      ]
     },
     "execution_count": 4,
     "metadata": {},
     "output_type": "execute_result"
    }
   ],
   "source": [
    "fake_df.shape"
   ]
  },
  {
   "cell_type": "code",
   "execution_count": 5,
   "id": "d5639468-043d-47c7-8297-07e505e04c8e",
   "metadata": {},
   "outputs": [],
   "source": [
    "true_df['label'] = 1\n",
    "fake_df['label'] = 0"
   ]
  },
  {
   "cell_type": "code",
   "execution_count": 6,
   "id": "60f01f04-d10d-4add-85c1-705e9297c40f",
   "metadata": {},
   "outputs": [],
   "source": [
    "data = pd.concat([true_df, fake_df], ignore_index=True)"
   ]
  },
  {
   "cell_type": "code",
   "execution_count": 7,
   "id": "34998613-2956-4869-9aad-5a6e6fe81d4d",
   "metadata": {},
   "outputs": [],
   "source": [
    "data = data.sample(frac=1, random_state=42).reset_index(drop=True)"
   ]
  },
  {
   "cell_type": "code",
   "execution_count": 8,
   "id": "0fc3b45f-4587-40ec-89d5-f490de89e9ab",
   "metadata": {},
   "outputs": [
    {
     "data": {
      "text/plain": [
       "(44898, 5)"
      ]
     },
     "execution_count": 8,
     "metadata": {},
     "output_type": "execute_result"
    }
   ],
   "source": [
    "data.shape"
   ]
  },
  {
   "cell_type": "code",
   "execution_count": 9,
   "id": "2ce3e0f8-ee22-42f1-b932-651ab802738b",
   "metadata": {},
   "outputs": [
    {
     "name": "stdout",
     "output_type": "stream",
     "text": [
      "<class 'pandas.core.frame.DataFrame'>\n",
      "RangeIndex: 44898 entries, 0 to 44897\n",
      "Data columns (total 5 columns):\n",
      " #   Column   Non-Null Count  Dtype \n",
      "---  ------   --------------  ----- \n",
      " 0   title    44898 non-null  object\n",
      " 1   text     44898 non-null  object\n",
      " 2   subject  44898 non-null  object\n",
      " 3   date     44898 non-null  object\n",
      " 4   label    44898 non-null  int64 \n",
      "dtypes: int64(1), object(4)\n",
      "memory usage: 1.7+ MB\n"
     ]
    }
   ],
   "source": [
    "data.info()"
   ]
  },
  {
   "cell_type": "code",
   "execution_count": 8,
   "id": "d6fee77e-26dd-4917-b2d4-36dad85f3eef",
   "metadata": {},
   "outputs": [
    {
     "data": {
      "text/html": [
       "<div>\n",
       "<style scoped>\n",
       "    .dataframe tbody tr th:only-of-type {\n",
       "        vertical-align: middle;\n",
       "    }\n",
       "\n",
       "    .dataframe tbody tr th {\n",
       "        vertical-align: top;\n",
       "    }\n",
       "\n",
       "    .dataframe thead th {\n",
       "        text-align: right;\n",
       "    }\n",
       "</style>\n",
       "<table border=\"1\" class=\"dataframe\">\n",
       "  <thead>\n",
       "    <tr style=\"text-align: right;\">\n",
       "      <th></th>\n",
       "      <th>title</th>\n",
       "      <th>text</th>\n",
       "      <th>subject</th>\n",
       "      <th>date</th>\n",
       "      <th>label</th>\n",
       "    </tr>\n",
       "  </thead>\n",
       "  <tbody>\n",
       "    <tr>\n",
       "      <th>31481</th>\n",
       "      <td>WOW! HERE’S THE LIST Of Obamacare Taxes Abolis...</td>\n",
       "      <td>The American Health Care Act (HR 1628) passed ...</td>\n",
       "      <td>politics</td>\n",
       "      <td>May 5, 2017</td>\n",
       "      <td>0</td>\n",
       "    </tr>\n",
       "    <tr>\n",
       "      <th>34343</th>\n",
       "      <td>Trump Considering Firing Sessions And Replaci...</td>\n",
       "      <td>On Saturday, amateur president Donald Trump wh...</td>\n",
       "      <td>News</td>\n",
       "      <td>July 24, 2017</td>\n",
       "      <td>0</td>\n",
       "    </tr>\n",
       "    <tr>\n",
       "      <th>21143</th>\n",
       "      <td>IS IVANKA TRYING TO CONVINCE Her Father To Bre...</td>\n",
       "      <td>Watch this video compilation where Trump makes...</td>\n",
       "      <td>left-news</td>\n",
       "      <td>Apr 24, 2017</td>\n",
       "      <td>0</td>\n",
       "    </tr>\n",
       "    <tr>\n",
       "      <th>43105</th>\n",
       "      <td>Viewers Are DEMANDING Shepard Smith Be FIRED A...</td>\n",
       "      <td>Only one day ago, FOX News published a factual...</td>\n",
       "      <td>left-news</td>\n",
       "      <td>Nov 15, 2017</td>\n",
       "      <td>0</td>\n",
       "    </tr>\n",
       "    <tr>\n",
       "      <th>28899</th>\n",
       "      <td>Philippine president sidelines police in war o...</td>\n",
       "      <td>MANILA (Reuters) - Philippine President Rodrig...</td>\n",
       "      <td>worldnews</td>\n",
       "      <td>October 11, 2017</td>\n",
       "      <td>1</td>\n",
       "    </tr>\n",
       "  </tbody>\n",
       "</table>\n",
       "</div>"
      ],
      "text/plain": [
       "                                                   title  \\\n",
       "31481  WOW! HERE’S THE LIST Of Obamacare Taxes Abolis...   \n",
       "34343   Trump Considering Firing Sessions And Replaci...   \n",
       "21143  IS IVANKA TRYING TO CONVINCE Her Father To Bre...   \n",
       "43105  Viewers Are DEMANDING Shepard Smith Be FIRED A...   \n",
       "28899  Philippine president sidelines police in war o...   \n",
       "\n",
       "                                                    text    subject  \\\n",
       "31481  The American Health Care Act (HR 1628) passed ...   politics   \n",
       "34343  On Saturday, amateur president Donald Trump wh...       News   \n",
       "21143  Watch this video compilation where Trump makes...  left-news   \n",
       "43105  Only one day ago, FOX News published a factual...  left-news   \n",
       "28899  MANILA (Reuters) - Philippine President Rodrig...  worldnews   \n",
       "\n",
       "                    date  label  \n",
       "31481        May 5, 2017      0  \n",
       "34343      July 24, 2017      0  \n",
       "21143       Apr 24, 2017      0  \n",
       "43105       Nov 15, 2017      0  \n",
       "28899  October 11, 2017       1  "
      ]
     },
     "execution_count": 8,
     "metadata": {},
     "output_type": "execute_result"
    }
   ],
   "source": [
    "data.sample(5)"
   ]
  },
  {
   "cell_type": "markdown",
   "id": "37d2aea5-2ebd-4faa-a8a9-e3c10e4300ac",
   "metadata": {},
   "source": [
    "## 2. Understand the Data"
   ]
  },
  {
   "cell_type": "code",
   "execution_count": 7,
   "id": "a50cbbda-a3d9-470c-8dc6-a010a92ce853",
   "metadata": {},
   "outputs": [
    {
     "data": {
      "text/plain": [
       "(44898, 5)"
      ]
     },
     "execution_count": 7,
     "metadata": {},
     "output_type": "execute_result"
    }
   ],
   "source": [
    "data.shape"
   ]
  },
  {
   "cell_type": "code",
   "execution_count": 8,
   "id": "c64dd86c-ce3f-4aa4-9f79-7c77967a94fc",
   "metadata": {},
   "outputs": [
    {
     "data": {
      "text/plain": [
       "title      0\n",
       "text       0\n",
       "subject    0\n",
       "date       0\n",
       "label      0\n",
       "dtype: int64"
      ]
     },
     "execution_count": 8,
     "metadata": {},
     "output_type": "execute_result"
    }
   ],
   "source": [
    "data.isnull().sum()"
   ]
  },
  {
   "cell_type": "code",
   "execution_count": 9,
   "id": "8192d6cf-ccd7-46aa-8c69-91b31f761598",
   "metadata": {},
   "outputs": [
    {
     "data": {
      "text/plain": [
       "np.int64(209)"
      ]
     },
     "execution_count": 9,
     "metadata": {},
     "output_type": "execute_result"
    }
   ],
   "source": [
    "data.duplicated().sum()"
   ]
  },
  {
   "cell_type": "code",
   "execution_count": 10,
   "id": "a775f7b1-ad06-4be2-b0cb-fb742dead378",
   "metadata": {},
   "outputs": [],
   "source": [
    "# remove duplicates\n",
    "data.drop_duplicates(keep=\"first\",inplace=True)"
   ]
  },
  {
   "cell_type": "code",
   "execution_count": 10,
   "id": "d06ec371-d3de-4465-9849-c777534aac5f",
   "metadata": {},
   "outputs": [
    {
     "data": {
      "text/plain": [
       "label\n",
       "0    23481\n",
       "1    21417\n",
       "Name: count, dtype: int64"
      ]
     },
     "execution_count": 10,
     "metadata": {},
     "output_type": "execute_result"
    }
   ],
   "source": [
    "data.label.value_counts()"
   ]
  },
  {
   "cell_type": "code",
   "execution_count": 11,
   "id": "854208d3-d260-41fb-8214-714ffdc66d78",
   "metadata": {},
   "outputs": [
    {
     "data": {
      "text/plain": [
       "(44689, 5)"
      ]
     },
     "execution_count": 11,
     "metadata": {},
     "output_type": "execute_result"
    }
   ],
   "source": [
    "data.shape"
   ]
  },
  {
   "cell_type": "markdown",
   "id": "b5930e82-77d5-4fb1-a92c-8a107f5878dc",
   "metadata": {},
   "source": [
    "## 3. Exploratory Data Analysis (EDA)"
   ]
  },
  {
   "cell_type": "code",
   "execution_count": 11,
   "id": "ece5e2cb-6e6f-4fbd-999f-48df8370238a",
   "metadata": {},
   "outputs": [],
   "source": [
    "import matplotlib.pyplot as plt\n",
    "import seaborn as sns\n",
    "from collections import Counter"
   ]
  },
  {
   "cell_type": "code",
   "execution_count": 12,
   "id": "e7eb0ca5-cbb4-44d0-bb35-7b54b0604fe5",
   "metadata": {},
   "outputs": [
    {
     "data": {
      "text/plain": [
       "label\n",
       "0    23481\n",
       "1    21417\n",
       "Name: count, dtype: int64"
      ]
     },
     "execution_count": 12,
     "metadata": {},
     "output_type": "execute_result"
    }
   ],
   "source": [
    "data.value_counts(\"label\")"
   ]
  },
  {
   "cell_type": "code",
   "execution_count": 13,
   "id": "2d943f30-a1c2-43b7-9bcf-154e5ed35bc2",
   "metadata": {
    "scrolled": true
   },
   "outputs": [
    {
     "data": {
      "image/png": "[encoded data removed]",
      "text/plain": [
       "<Figure size 640x480 with 1 Axes>"
      ]
     },
     "metadata": {},
     "output_type": "display_data"
    }
   ],
   "source": [
    "plt.pie(data[\"label\"].value_counts(),labels=[\"True_news\",\"Fake_news\"],autopct=\"%0.2f\")\n",
    "plt.show()"
   ]
  },
  {
   "cell_type": "code",
   "execution_count": 14,
   "id": "989e96b6-926d-4bfb-9fbb-79a20d17f2c6",
   "metadata": {},
   "outputs": [],
   "source": [
    "labels=[\"True_news\",\"Fake_news\"]\n",
    "labels_counts = data.value_counts(\"label\")"
   ]
  },
  {
   "cell_type": "code",
   "execution_count": 15,
   "id": "18793ed0-bde6-4010-b961-06d15737eb31",
   "metadata": {},
   "outputs": [
    {
     "data": {
      "image/png": "[encoded data removed]",
      "text/plain": [
       "<Figure size 400x300 with 1 Axes>"
      ]
     },
     "metadata": {},
     "output_type": "display_data"
    }
   ],
   "source": [
    "plt.figure(figsize=(4,3))\n",
    "plt.bar(labels, labels_counts, color=['green', 'red'])\n",
    "plt.title('Distribution of True vs Fake News')\n",
    "plt.xlabel('News Type')\n",
    "plt.ylabel('Count')\n",
    "plt.show()"
   ]
  },
  {
   "cell_type": "code",
   "execution_count": 16,
   "id": "b3ab5ea5-b506-44d3-943e-cc942bbc0fe5",
   "metadata": {},
   "outputs": [],
   "source": [
    "# calculate number of character\n",
    "data[\"num_characters\"]=data[\"text\"].apply(len)"
   ]
  },
  {
   "cell_type": "code",
   "execution_count": 17,
   "id": "1bf36111-ea76-4def-be42-d192f093a896",
   "metadata": {},
   "outputs": [],
   "source": [
    "# calculate number of words\n",
    "data[\"num_words\"]=data[\"text\"].apply(lambda x:len(nltk.word_tokenize(x)))"
   ]
  },
  {
   "cell_type": "code",
   "execution_count": 18,
   "id": "68b1cf9a-8151-472d-b37e-6ae7bb1e105a",
   "metadata": {},
   "outputs": [],
   "source": [
    "# calculate number of sentences\n",
    "data[\"num_sentences\"]=data[\"text\"].apply(lambda x:len(nltk.sent_tokenize(x)))"
   ]
  },
  {
   "cell_type": "code",
   "execution_count": 19,
   "id": "5553588a-826e-42bf-bd47-4d5d90eb0540",
   "metadata": {},
   "outputs": [
    {
     "data": {
      "text/html": [
       "<div>\n",
       "<style scoped>\n",
       "    .dataframe tbody tr th:only-of-type {\n",
       "        vertical-align: middle;\n",
       "    }\n",
       "\n",
       "    .dataframe tbody tr th {\n",
       "        vertical-align: top;\n",
       "    }\n",
       "\n",
       "    .dataframe thead th {\n",
       "        text-align: right;\n",
       "    }\n",
       "</style>\n",
       "<table border=\"1\" class=\"dataframe\">\n",
       "  <thead>\n",
       "    <tr style=\"text-align: right;\">\n",
       "      <th></th>\n",
       "      <th>title</th>\n",
       "      <th>text</th>\n",
       "      <th>subject</th>\n",
       "      <th>date</th>\n",
       "      <th>label</th>\n",
       "      <th>num_characters</th>\n",
       "      <th>num_words</th>\n",
       "      <th>num_sentences</th>\n",
       "    </tr>\n",
       "  </thead>\n",
       "  <tbody>\n",
       "    <tr>\n",
       "      <th>20162</th>\n",
       "      <td>Trump to attend NATO summit in Brussels May 25</td>\n",
       "      <td>WASHINGTON (Reuters) - U.S. President Donald T...</td>\n",
       "      <td>politicsNews</td>\n",
       "      <td>March 22, 2017</td>\n",
       "      <td>1</td>\n",
       "      <td>1003</td>\n",
       "      <td>181</td>\n",
       "      <td>5</td>\n",
       "    </tr>\n",
       "    <tr>\n",
       "      <th>25120</th>\n",
       "      <td>WATCH: INDOCTRINATED COLLEGE STUDENTS Are Stun...</td>\n",
       "      <td>Would Hillary s  every day Americans  answer t...</td>\n",
       "      <td>politics</td>\n",
       "      <td>Jun 23, 2016</td>\n",
       "      <td>0</td>\n",
       "      <td>238</td>\n",
       "      <td>39</td>\n",
       "      <td>2</td>\n",
       "    </tr>\n",
       "    <tr>\n",
       "      <th>37651</th>\n",
       "      <td>CBS Reporter Asks Putin How Comey’s Firing Wil...</td>\n",
       "      <td>Russian President Vladimir Putin got sassy wit...</td>\n",
       "      <td>politics</td>\n",
       "      <td>May 10, 2017</td>\n",
       "      <td>0</td>\n",
       "      <td>2535</td>\n",
       "      <td>463</td>\n",
       "      <td>14</td>\n",
       "    </tr>\n",
       "    <tr>\n",
       "      <th>35487</th>\n",
       "      <td>Trump lifts Cyber Command status to boost cybe...</td>\n",
       "      <td>WASHINGTON (Reuters) - President Donald Trump ...</td>\n",
       "      <td>politicsNews</td>\n",
       "      <td>August 18, 2017</td>\n",
       "      <td>1</td>\n",
       "      <td>2856</td>\n",
       "      <td>502</td>\n",
       "      <td>17</td>\n",
       "    </tr>\n",
       "    <tr>\n",
       "      <th>27387</th>\n",
       "      <td>NOT NEWS: [Graphic Video] Michigan Woman Runs ...</td>\n",
       "      <td>This is a story that will never make the news....</td>\n",
       "      <td>politics</td>\n",
       "      <td>Apr 9, 2015</td>\n",
       "      <td>0</td>\n",
       "      <td>1397</td>\n",
       "      <td>266</td>\n",
       "      <td>7</td>\n",
       "    </tr>\n",
       "  </tbody>\n",
       "</table>\n",
       "</div>"
      ],
      "text/plain": [
       "                                                   title  \\\n",
       "20162     Trump to attend NATO summit in Brussels May 25   \n",
       "25120  WATCH: INDOCTRINATED COLLEGE STUDENTS Are Stun...   \n",
       "37651  CBS Reporter Asks Putin How Comey’s Firing Wil...   \n",
       "35487  Trump lifts Cyber Command status to boost cybe...   \n",
       "27387  NOT NEWS: [Graphic Video] Michigan Woman Runs ...   \n",
       "\n",
       "                                                    text       subject  \\\n",
       "20162  WASHINGTON (Reuters) - U.S. President Donald T...  politicsNews   \n",
       "25120  Would Hillary s  every day Americans  answer t...      politics   \n",
       "37651  Russian President Vladimir Putin got sassy wit...      politics   \n",
       "35487  WASHINGTON (Reuters) - President Donald Trump ...  politicsNews   \n",
       "27387  This is a story that will never make the news....      politics   \n",
       "\n",
       "                   date  label  num_characters  num_words  num_sentences  \n",
       "20162   March 22, 2017       1            1003        181              5  \n",
       "25120      Jun 23, 2016      0             238         39              2  \n",
       "37651      May 10, 2017      0            2535        463             14  \n",
       "35487  August 18, 2017       1            2856        502             17  \n",
       "27387       Apr 9, 2015      0            1397        266              7  "
      ]
     },
     "execution_count": 19,
     "metadata": {},
     "output_type": "execute_result"
    }
   ],
   "source": [
    "data.sample(5)"
   ]
  },
  {
   "cell_type": "code",
   "execution_count": 20,
   "id": "aa057026-8206-4380-804a-8e591c99baf8",
   "metadata": {},
   "outputs": [
    {
     "data": {
      "image/png": "[encoded data removed]",
      "text/plain": [
       "<Figure size 640x480 with 2 Axes>"
      ]
     },
     "metadata": {},
     "output_type": "display_data"
    }
   ],
   "source": [
    "selected_cols = [\"label\", \"num_characters\",\"num_words\"\t,\"num_sentences\"]\n",
    "corr_matrix = data[selected_cols].corr()\n",
    "\n",
    "# Plot the heatmap\n",
    "sns.heatmap(corr_matrix, annot=True)\n",
    "plt.title(\"Correlation of Target with Selected Features\")\n",
    "plt.show()"
   ]
  },
  {
   "cell_type": "markdown",
   "id": "8b80c04c-ccba-4cfe-8510-74f6b2da9c4f",
   "metadata": {},
   "source": [
    "## 4. Data PreProcessing\n",
    "- lowercase\n",
    "- remove special characters\n",
    "- removing stop words and punctuations\n",
    "- tokenization\n",
    "- stemming/lemmatization"
   ]
  },
  {
   "cell_type": "code",
   "execution_count": 21,
   "id": "0f58fe2e-eae2-4df2-be70-52a240ae9396",
   "metadata": {},
   "outputs": [
    {
     "name": "stderr",
     "output_type": "stream",
     "text": [
      "[nltk_data] Downloading package stopwords to\n",
      "[nltk_data]     C:\\Users\\91708\\AppData\\Roaming\\nltk_data...\n",
      "[nltk_data]   Package stopwords is already up-to-date!\n",
      "[nltk_data] Downloading package wordnet to\n",
      "[nltk_data]     C:\\Users\\91708\\AppData\\Roaming\\nltk_data...\n",
      "[nltk_data]   Package wordnet is already up-to-date!\n"
     ]
    }
   ],
   "source": [
    "import re\n",
    "import nltk\n",
    "from nltk.corpus import stopwords\n",
    "from nltk.stem import WordNetLemmatizer\n",
    "\n",
    "nltk.download('stopwords')\n",
    "nltk.download('wordnet')\n",
    "stop_words = set(stopwords.words('english'))\n",
    "lemmatizer = WordNetLemmatizer()\n",
    "\n",
    "def clean_text(text):\n",
    "    text = str(text).lower()\n",
    "    text = re.sub(r'<.*?>', '', text)  # Remove HTML\n",
    "    text = re.sub(r'[^a-z\\s]', '', text)  # Remove punctuation/numbers\n",
    "    text = re.sub(r'\\s+', ' ', text).strip()  # Remove extra whitespace\n",
    "    tokens = text.split()\n",
    "    tokens = [lemmatizer.lemmatize(word) for word in tokens if word not in stop_words]\n",
    "    return ' '.join(tokens)\n",
    "\n",
    "data['cleaned_text'] = data['text'].apply(clean_text)"
   ]
  },
  {
   "cell_type": "code",
   "execution_count": 22,
   "id": "95a7da1a-bfa1-4691-96ea-85eed08c183d",
   "metadata": {},
   "outputs": [
    {
     "data": {
      "text/html": [
       "<div>\n",
       "<style scoped>\n",
       "    .dataframe tbody tr th:only-of-type {\n",
       "        vertical-align: middle;\n",
       "    }\n",
       "\n",
       "    .dataframe tbody tr th {\n",
       "        vertical-align: top;\n",
       "    }\n",
       "\n",
       "    .dataframe thead th {\n",
       "        text-align: right;\n",
       "    }\n",
       "</style>\n",
       "<table border=\"1\" class=\"dataframe\">\n",
       "  <thead>\n",
       "    <tr style=\"text-align: right;\">\n",
       "      <th></th>\n",
       "      <th>title</th>\n",
       "      <th>text</th>\n",
       "      <th>subject</th>\n",
       "      <th>date</th>\n",
       "      <th>label</th>\n",
       "      <th>num_characters</th>\n",
       "      <th>num_words</th>\n",
       "      <th>num_sentences</th>\n",
       "      <th>cleaned_text</th>\n",
       "    </tr>\n",
       "  </thead>\n",
       "  <tbody>\n",
       "    <tr>\n",
       "      <th>22751</th>\n",
       "      <td>CRITICALLY WOUNDED GOP Rep. Steve Scalise Stoo...</td>\n",
       "      <td>Trump-hating, Bernie Sanders supporter and dom...</td>\n",
       "      <td>left-news</td>\n",
       "      <td>Jun 15, 2017</td>\n",
       "      <td>0</td>\n",
       "      <td>2303</td>\n",
       "      <td>407</td>\n",
       "      <td>11</td>\n",
       "      <td>trumphating bernie sander supporter domestic t...</td>\n",
       "    </tr>\n",
       "    <tr>\n",
       "      <th>27930</th>\n",
       "      <td>Conservative Calls President Obama A ‘Muslim’...</td>\n",
       "      <td>When former Tea Party congressman Joe Walsh de...</td>\n",
       "      <td>News</td>\n",
       "      <td>December 30, 2016</td>\n",
       "      <td>0</td>\n",
       "      <td>3403</td>\n",
       "      <td>660</td>\n",
       "      <td>26</td>\n",
       "      <td>former tea party congressman joe walsh decided...</td>\n",
       "    </tr>\n",
       "    <tr>\n",
       "      <th>41868</th>\n",
       "      <td>GAFFE OF THE DAY: VA Gov. #TerryMcAuliffe Blam...</td>\n",
       "      <td>VIRGINIA governor Terry McAuliffe decided to g...</td>\n",
       "      <td>Government News</td>\n",
       "      <td>Jun 14, 2017</td>\n",
       "      <td>0</td>\n",
       "      <td>1263</td>\n",
       "      <td>245</td>\n",
       "      <td>14</td>\n",
       "      <td>virginia governor terry mcauliffe decided get ...</td>\n",
       "    </tr>\n",
       "    <tr>\n",
       "      <th>1592</th>\n",
       "      <td>Blackwater founder Prince details meeting with...</td>\n",
       "      <td>(This version of the Dec 6 story corrects par...</td>\n",
       "      <td>politicsNews</td>\n",
       "      <td>December 6, 2017</td>\n",
       "      <td>1</td>\n",
       "      <td>3768</td>\n",
       "      <td>694</td>\n",
       "      <td>22</td>\n",
       "      <td>version dec story corrects paragraph add new p...</td>\n",
       "    </tr>\n",
       "    <tr>\n",
       "      <th>33531</th>\n",
       "      <td>RUSSIA HITS OBAMA…HARD: “We are reaching a rea...</td>\n",
       "      <td>U.S.-led coalition air strikes killed dozens o...</td>\n",
       "      <td>politics</td>\n",
       "      <td>Sep 19, 2016</td>\n",
       "      <td>0</td>\n",
       "      <td>3415</td>\n",
       "      <td>590</td>\n",
       "      <td>21</td>\n",
       "      <td>usled coalition air strike killed dozen syrian...</td>\n",
       "    </tr>\n",
       "  </tbody>\n",
       "</table>\n",
       "</div>"
      ],
      "text/plain": [
       "                                                   title  \\\n",
       "22751  CRITICALLY WOUNDED GOP Rep. Steve Scalise Stoo...   \n",
       "27930   Conservative Calls President Obama A ‘Muslim’...   \n",
       "41868  GAFFE OF THE DAY: VA Gov. #TerryMcAuliffe Blam...   \n",
       "1592   Blackwater founder Prince details meeting with...   \n",
       "33531  RUSSIA HITS OBAMA…HARD: “We are reaching a rea...   \n",
       "\n",
       "                                                    text          subject  \\\n",
       "22751  Trump-hating, Bernie Sanders supporter and dom...        left-news   \n",
       "27930  When former Tea Party congressman Joe Walsh de...             News   \n",
       "41868  VIRGINIA governor Terry McAuliffe decided to g...  Government News   \n",
       "1592    (This version of the Dec 6 story corrects par...     politicsNews   \n",
       "33531  U.S.-led coalition air strikes killed dozens o...         politics   \n",
       "\n",
       "                    date  label  num_characters  num_words  num_sentences  \\\n",
       "22751       Jun 15, 2017      0            2303        407             11   \n",
       "27930  December 30, 2016      0            3403        660             26   \n",
       "41868       Jun 14, 2017      0            1263        245             14   \n",
       "1592   December 6, 2017       1            3768        694             22   \n",
       "33531       Sep 19, 2016      0            3415        590             21   \n",
       "\n",
       "                                            cleaned_text  \n",
       "22751  trumphating bernie sander supporter domestic t...  \n",
       "27930  former tea party congressman joe walsh decided...  \n",
       "41868  virginia governor terry mcauliffe decided get ...  \n",
       "1592   version dec story corrects paragraph add new p...  \n",
       "33531  usled coalition air strike killed dozen syrian...  "
      ]
     },
     "execution_count": 22,
     "metadata": {},
     "output_type": "execute_result"
    }
   ],
   "source": [
    "data.sample(5)"
   ]
  },
  {
   "cell_type": "code",
   "execution_count": null,
   "id": "9a5fe7d0-c030-4c29-a084-fab4ce9c085b",
   "metadata": {},
   "outputs": [],
   "source": []
  },
  {
   "cell_type": "markdown",
   "id": "cb1078cf-1460-40cf-9bb2-5bedc9eb5249",
   "metadata": {},
   "source": [
    "# 5. Feature Extraction"
   ]
  },
  {
   "cell_type": "code",
   "execution_count": 24,
   "id": "06230c21-0d09-4e5a-b026-bd71d0a53fc7",
   "metadata": {},
   "outputs": [],
   "source": [
    "from sklearn.feature_extraction.text import TfidfVectorizer\n",
    "\n",
    "tfidf = TfidfVectorizer(max_features=5000)\n",
    "X = tfidf.fit_transform(data['cleaned_text'])\n",
    "y = data['label']"
   ]
  },
  {
   "cell_type": "code",
   "execution_count": 25,
   "id": "588b45ac-dc3b-4217-a501-69a88847294e",
   "metadata": {},
   "outputs": [
    {
     "data": {
      "text/plain": [
       "<Compressed Sparse Row sparse matrix of dtype 'float64'\n",
       "\twith 5680203 stored elements and shape (44689, 5000)>"
      ]
     },
     "execution_count": 25,
     "metadata": {},
     "output_type": "execute_result"
    }
   ],
   "source": [
    "X"
   ]
  },
  {
   "cell_type": "code",
   "execution_count": 26,
   "id": "9d89d1df-795d-4ba5-89df-022647de30b2",
   "metadata": {},
   "outputs": [
    {
     "data": {
      "text/plain": [
       "(44689,)"
      ]
     },
     "execution_count": 26,
     "metadata": {},
     "output_type": "execute_result"
    }
   ],
   "source": [
    "y.shape"
   ]
  },
  {
   "cell_type": "code",
   "execution_count": null,
   "id": "c7116185-f52a-43c0-9148-187973da5ebd",
   "metadata": {},
   "outputs": [],
   "source": []
  },
  {
   "cell_type": "markdown",
   "id": "069692b2-7036-4d63-a943-c29bc5a34286",
   "metadata": {},
   "source": [
    "# 6. Model Building"
   ]
  },
  {
   "cell_type": "code",
   "execution_count": 27,
   "id": "869612fe-81c6-4af1-847e-204524a488ff",
   "metadata": {},
   "outputs": [],
   "source": [
    "from sklearn.model_selection import train_test_split  \n",
    "X_train,X_test,y_train,y_test=train_test_split(X,y,test_size=0.2,random_state=2)"
   ]
  },
  {
   "cell_type": "code",
   "execution_count": null,
   "id": "2f52a560-4e73-4da5-9fe2-d4df0b5c9358",
   "metadata": {},
   "outputs": [],
   "source": [
    "from sklearn.naive_bayes import BernoulliNB,MultinomialNB"
   ]
  },
  {
   "cell_type": "code",
   "execution_count": 29,
   "id": "1f3d4e45-d77c-4e85-83d1-5ef1eabb8e48",
   "metadata": {},
   "outputs": [],
   "source": [
    "bnb=BernoulliNB()\n",
    "mnb=MultinomialNB()"
   ]
  },
  {
   "cell_type": "code",
   "execution_count": 30,
   "id": "4a214c09-bde6-4541-b234-1660e8f2e39a",
   "metadata": {},
   "outputs": [],
   "source": [
    "X_train_dense = X_train.toarray()\n",
    "X_test_dense = X_test.toarray()"
   ]
  },
  {
   "cell_type": "markdown",
   "id": "82622609-cc79-4d70-9b38-955ed44951fa",
   "metadata": {},
   "source": [
    "# 7. Model Evaluation"
   ]
  },
  {
   "cell_type": "code",
   "execution_count": 31,
   "id": "751c6ef6-1875-4cb5-a6b9-3046330f2ddf",
   "metadata": {},
   "outputs": [],
   "source": [
    "from sklearn.metrics import accuracy_score,confusion_matrix,precision_score"
   ]
  },
  {
   "cell_type": "code",
   "execution_count": 33,
   "id": "96fa470b-d17c-41f2-af75-cb72ef73b059",
   "metadata": {},
   "outputs": [
    {
     "name": "stdout",
     "output_type": "stream",
     "text": [
      "0.9625195793242336\n",
      "[[4577  179]\n",
      " [ 156 4026]]\n",
      "0.9574316290130797\n"
     ]
    }
   ],
   "source": [
    "bnb.fit(X_train_dense,y_train)\n",
    "y_pred2=bnb.predict(X_test_dense)\n",
    "print(accuracy_score(y_test,y_pred2))\n",
    "print(confusion_matrix(y_test,y_pred2))\n",
    "print(precision_score(y_test,y_pred2))"
   ]
  },
  {
   "cell_type": "code",
   "execution_count": 34,
   "id": "439662c8-b1f4-4973-b378-b7a960e18eb9",
   "metadata": {},
   "outputs": [
    {
     "name": "stdout",
     "output_type": "stream",
     "text": [
      "0.9302976057283509\n",
      "[[4454  302]\n",
      " [ 321 3861]]\n",
      "0.9274561614220515\n"
     ]
    }
   ],
   "source": [
    "mnb.fit(X_train_dense,y_train)\n",
    "y_pred3=mnb.predict(X_test_dense)\n",
    "print(accuracy_score(y_test,y_pred3))\n",
    "print(confusion_matrix(y_test,y_pred3))\n",
    "print(precision_score(y_test,y_pred3))"
   ]
  },
  {
   "cell_type": "markdown",
   "id": "32791bff-df16-4f13-a7d8-0949c4fb72ec",
   "metadata": {},
   "source": [
    "## confusion matrix"
   ]
  },
  {
   "cell_type": "code",
   "execution_count": 35,
   "id": "6ef6e422-fe97-48b3-8ca8-c24982661f6a",
   "metadata": {},
   "outputs": [
    {
     "data": {
      "text/plain": [
       "Text(0.5, 1.0, 'ROC Curve')"
      ]
     },
     "execution_count": 35,
     "metadata": {},
     "output_type": "execute_result"
    },
    {
     "data": {
      "image/png": "[encoded data removed]",
      "text/plain": [
       "<Figure size 640x480 with 2 Axes>"
      ]
     },
     "metadata": {},
     "output_type": "display_data"
    }
   ],
   "source": [
    "from sklearn.metrics import classification_report, confusion_matrix, accuracy_score, roc_auc_score, roc_curve\n",
    "\n",
    "sns.heatmap(confusion_matrix(y_test, y_pred3), annot=True, fmt='d')\n",
    "\n",
    "# ROC Curve\n",
    "fpr, tpr, _ = roc_curve(y_test, mnb.predict_proba(X_test)[:,1])\n",
    "plt.plot(fpr, tpr)\n",
    "plt.xlabel('False Positive Rate')\n",
    "plt.ylabel('True Positive Rate')\n",
    "plt.title('ROC Curve')"
   ]
  },
  {
   "cell_type": "code",
   "execution_count": null,
   "id": "397de380-4350-4437-a3f6-375db8091d40",
   "metadata": {},
   "outputs": [],
   "source": []
  },
  {
   "cell_type": "markdown",
   "id": "6e6d077f-cf57-4d97-a753-4208d86b1fdc",
   "metadata": {},
   "source": [
    "# 8. Error Analysis"
   ]
  },
  {
   "cell_type": "code",
   "execution_count": 36,
   "id": "05b739ea-5483-4d36-8038-a1796daa3f09",
   "metadata": {},
   "outputs": [
    {
     "name": "stdout",
     "output_type": "stream",
     "text": [
      "                                                   text  label\n",
      "4903  BENGHAZI, Libya (Reuters) - Libyan security fo...      1\n",
      "2150  Why did the Democrat VA Governor throw gasolin...      0\n",
      "4649  HONOLULU (Reuters) - President Donald Trump ar...      1\n",
      "1053  BATTAMBANG, Cambodia (Reuters) - Sin Rozeth s ...      1\n",
      "3441  NAIROBI (Reuters) - Kenya s election board mus...      1\n"
     ]
    }
   ],
   "source": [
    "misclassified = data.iloc[X_test[y_test != y_pred3].indices] ## For multinomial\n",
    "print(misclassified[['text', 'label']].head(5))"
   ]
  },
  {
   "cell_type": "code",
   "execution_count": null,
   "id": "4b19e247-cd94-4664-ae71-41d3d3d1906f",
   "metadata": {},
   "outputs": [],
   "source": []
  },
  {
   "cell_type": "markdown",
   "id": "be5e12f6-ae32-43ca-b8a3-c18d8ebd670e",
   "metadata": {},
   "source": [
    "# 9. Insights\n",
    "- Top words: Check top features with model.feature_log_prob_\n",
    "\n",
    "- Class balance: Was it balanced? Affects performance.\n",
    "\n",
    "- Precision vs Recall: High precision = fewer false positives.\n",
    "\n",
    "- Learnings & Improvements: e.g., try BERT, ensemble models, etc."
   ]
  },
  {
   "cell_type": "code",
   "execution_count": null,
   "id": "f5333bee-1d25-44b3-bda0-a8b2bc40a06f",
   "metadata": {},
   "outputs": [],
   "source": []
  },
  {
   "cell_type": "markdown",
   "id": "a9d949d8-ec0d-45d0-872d-bfa7d917962f",
   "metadata": {},
   "source": [
    "# 10. Bonus (Optional)"
   ]
  },
  {
   "cell_type": "code",
   "execution_count": 37,
   "id": "3bde6c3e-0e3d-4721-8172-969b9db2db89",
   "metadata": {},
   "outputs": [
    {
     "data": {
      "text/html": [
       "<style>#sk-container-id-1 {\n",
       "  /* Definition of color scheme common for light and dark mode */\n",
       "  --sklearn-color-text: #000;\n",
       "  --sklearn-color-text-muted: #666;\n",
       "  --sklearn-color-line: gray;\n",
       "  /* Definition of color scheme for unfitted estimators */\n",
       "  --sklearn-color-unfitted-level-0: #fff5e6;\n",
       "  --sklearn-color-unfitted-level-1: #f6e4d2;\n",
       "  --sklearn-color-unfitted-level-2: #ffe0b3;\n",
       "  --sklearn-color-unfitted-level-3: chocolate;\n",
       "  /* Definition of color scheme for fitted estimators */\n",
       "  --sklearn-color-fitted-level-0: #f0f8ff;\n",
       "  --sklearn-color-fitted-level-1: #d4ebff;\n",
       "  --sklearn-color-fitted-level-2: #b3dbfd;\n",
       "  --sklearn-color-fitted-level-3: cornflowerblue;\n",
       "\n",
       "  /* Specific color for light theme */\n",
       "  --sklearn-color-text-on-default-background: var(--sg-text-color, var(--theme-code-foreground, var(--jp-content-font-color1, black)));\n",
       "  --sklearn-color-background: var(--sg-background-color, var(--theme-background, var(--jp-layout-color0, white)));\n",
       "  --sklearn-color-border-box: var(--sg-text-color, var(--theme-code-foreground, var(--jp-content-font-color1, black)));\n",
       "  --sklearn-color-icon: #696969;\n",
       "\n",
       "  @media (prefers-color-scheme: dark) {\n",
       "    /* Redefinition of color scheme for dark theme */\n",
       "    --sklearn-color-text-on-default-background: var(--sg-text-color, var(--theme-code-foreground, var(--jp-content-font-color1, white)));\n",
       "    --sklearn-color-background: var(--sg-background-color, var(--theme-background, var(--jp-layout-color0, #111)));\n",
       "    --sklearn-color-border-box: var(--sg-text-color, var(--theme-code-foreground, var(--jp-content-font-color1, white)));\n",
       "    --sklearn-color-icon: #878787;\n",
       "  }\n",
       "}\n",
       "\n",
       "#sk-container-id-1 {\n",
       "  color: var(--sklearn-color-text);\n",
       "}\n",
       "\n",
       "#sk-container-id-1 pre {\n",
       "  padding: 0;\n",
       "}\n",
       "\n",
       "#sk-container-id-1 input.sk-hidden--visually {\n",
       "  border: 0;\n",
       "  clip: rect(1px 1px 1px 1px);\n",
       "  clip: rect(1px, 1px, 1px, 1px);\n",
       "  height: 1px;\n",
       "  margin: -1px;\n",
       "  overflow: hidden;\n",
       "  padding: 0;\n",
       "  position: absolute;\n",
       "  width: 1px;\n",
       "}\n",
       "\n",
       "#sk-container-id-1 div.sk-dashed-wrapped {\n",
       "  border: 1px dashed var(--sklearn-color-line);\n",
       "  margin: 0 0.4em 0.5em 0.4em;\n",
       "  box-sizing: border-box;\n",
       "  padding-bottom: 0.4em;\n",
       "  background-color: var(--sklearn-color-background);\n",
       "}\n",
       "\n",
       "#sk-container-id-1 div.sk-container {\n",
       "  /* jupyter's `normalize.less` sets `[hidden] { display: none; }`\n",
       "     but bootstrap.min.css set `[hidden] { display: none !important; }`\n",
       "     so we also need the `!important` here to be able to override the\n",
       "     default hidden behavior on the sphinx rendered scikit-learn.org.\n",
       "     See: https://github.com/scikit-learn/scikit-learn/issues/21755 */\n",
       "  display: inline-block !important;\n",
       "  position: relative;\n",
       "}\n",
       "\n",
       "#sk-container-id-1 div.sk-text-repr-fallback {\n",
       "  display: none;\n",
       "}\n",
       "\n",
       "div.sk-parallel-item,\n",
       "div.sk-serial,\n",
       "div.sk-item {\n",
       "  /* draw centered vertical line to link estimators */\n",
       "  background-image: linear-gradient(var(--sklearn-color-text-on-default-background), var(--sklearn-color-text-on-default-background));\n",
       "  background-size: 2px 100%;\n",
       "  background-repeat: no-repeat;\n",
       "  background-position: center center;\n",
       "}\n",
       "\n",
       "/* Parallel-specific style estimator block */\n",
       "\n",
       "#sk-container-id-1 div.sk-parallel-item::after {\n",
       "  content: \"\";\n",
       "  width: 100%;\n",
       "  border-bottom: 2px solid var(--sklearn-color-text-on-default-background);\n",
       "  flex-grow: 1;\n",
       "}\n",
       "\n",
       "#sk-container-id-1 div.sk-parallel {\n",
       "  display: flex;\n",
       "  align-items: stretch;\n",
       "  justify-content: center;\n",
       "  background-color: var(--sklearn-color-background);\n",
       "  position: relative;\n",
       "}\n",
       "\n",
       "#sk-container-id-1 div.sk-parallel-item {\n",
       "  display: flex;\n",
       "  flex-direction: column;\n",
       "}\n",
       "\n",
       "#sk-container-id-1 div.sk-parallel-item:first-child::after {\n",
       "  align-self: flex-end;\n",
       "  width: 50%;\n",
       "}\n",
       "\n",
       "#sk-container-id-1 div.sk-parallel-item:last-child::after {\n",
       "  align-self: flex-start;\n",
       "  width: 50%;\n",
       "}\n",
       "\n",
       "#sk-container-id-1 div.sk-parallel-item:only-child::after {\n",
       "  width: 0;\n",
       "}\n",
       "\n",
       "/* Serial-specific style estimator block */\n",
       "\n",
       "#sk-container-id-1 div.sk-serial {\n",
       "  display: flex;\n",
       "  flex-direction: column;\n",
       "  align-items: center;\n",
       "  background-color: var(--sklearn-color-background);\n",
       "  padding-right: 1em;\n",
       "  padding-left: 1em;\n",
       "}\n",
       "\n",
       "\n",
       "/* Toggleable style: style used for estimator/Pipeline/ColumnTransformer box that is\n",
       "clickable and can be expanded/collapsed.\n",
       "- Pipeline and ColumnTransformer use this feature and define the default style\n",
       "- Estimators will overwrite some part of the style using the `sk-estimator` class\n",
       "*/\n",
       "\n",
       "/* Pipeline and ColumnTransformer style (default) */\n",
       "\n",
       "#sk-container-id-1 div.sk-toggleable {\n",
       "  /* Default theme specific background. It is overwritten whether we have a\n",
       "  specific estimator or a Pipeline/ColumnTransformer */\n",
       "  background-color: var(--sklearn-color-background);\n",
       "}\n",
       "\n",
       "/* Toggleable label */\n",
       "#sk-container-id-1 label.sk-toggleable__label {\n",
       "  cursor: pointer;\n",
       "  display: flex;\n",
       "  width: 100%;\n",
       "  margin-bottom: 0;\n",
       "  padding: 0.5em;\n",
       "  box-sizing: border-box;\n",
       "  text-align: center;\n",
       "  align-items: start;\n",
       "  justify-content: space-between;\n",
       "  gap: 0.5em;\n",
       "}\n",
       "\n",
       "#sk-container-id-1 label.sk-toggleable__label .caption {\n",
       "  font-size: 0.6rem;\n",
       "  font-weight: lighter;\n",
       "  color: var(--sklearn-color-text-muted);\n",
       "}\n",
       "\n",
       "#sk-container-id-1 label.sk-toggleable__label-arrow:before {\n",
       "  /* Arrow on the left of the label */\n",
       "  content: \"▸\";\n",
       "  float: left;\n",
       "  margin-right: 0.25em;\n",
       "  color: var(--sklearn-color-icon);\n",
       "}\n",
       "\n",
       "#sk-container-id-1 label.sk-toggleable__label-arrow:hover:before {\n",
       "  color: var(--sklearn-color-text);\n",
       "}\n",
       "\n",
       "/* Toggleable content - dropdown */\n",
       "\n",
       "#sk-container-id-1 div.sk-toggleable__content {\n",
       "  max-height: 0;\n",
       "  max-width: 0;\n",
       "  overflow: hidden;\n",
       "  text-align: left;\n",
       "  /* unfitted */\n",
       "  background-color: var(--sklearn-color-unfitted-level-0);\n",
       "}\n",
       "\n",
       "#sk-container-id-1 div.sk-toggleable__content.fitted {\n",
       "  /* fitted */\n",
       "  background-color: var(--sklearn-color-fitted-level-0);\n",
       "}\n",
       "\n",
       "#sk-container-id-1 div.sk-toggleable__content pre {\n",
       "  margin: 0.2em;\n",
       "  border-radius: 0.25em;\n",
       "  color: var(--sklearn-color-text);\n",
       "  /* unfitted */\n",
       "  background-color: var(--sklearn-color-unfitted-level-0);\n",
       "}\n",
       "\n",
       "#sk-container-id-1 div.sk-toggleable__content.fitted pre {\n",
       "  /* unfitted */\n",
       "  background-color: var(--sklearn-color-fitted-level-0);\n",
       "}\n",
       "\n",
       "#sk-container-id-1 input.sk-toggleable__control:checked~div.sk-toggleable__content {\n",
       "  /* Expand drop-down */\n",
       "  max-height: 200px;\n",
       "  max-width: 100%;\n",
       "  overflow: auto;\n",
       "}\n",
       "\n",
       "#sk-container-id-1 input.sk-toggleable__control:checked~label.sk-toggleable__label-arrow:before {\n",
       "  content: \"▾\";\n",
       "}\n",
       "\n",
       "/* Pipeline/ColumnTransformer-specific style */\n",
       "\n",
       "#sk-container-id-1 div.sk-label input.sk-toggleable__control:checked~label.sk-toggleable__label {\n",
       "  color: var(--sklearn-color-text);\n",
       "  background-color: var(--sklearn-color-unfitted-level-2);\n",
       "}\n",
       "\n",
       "#sk-container-id-1 div.sk-label.fitted input.sk-toggleable__control:checked~label.sk-toggleable__label {\n",
       "  background-color: var(--sklearn-color-fitted-level-2);\n",
       "}\n",
       "\n",
       "/* Estimator-specific style */\n",
       "\n",
       "/* Colorize estimator box */\n",
       "#sk-container-id-1 div.sk-estimator input.sk-toggleable__control:checked~label.sk-toggleable__label {\n",
       "  /* unfitted */\n",
       "  background-color: var(--sklearn-color-unfitted-level-2);\n",
       "}\n",
       "\n",
       "#sk-container-id-1 div.sk-estimator.fitted input.sk-toggleable__control:checked~label.sk-toggleable__label {\n",
       "  /* fitted */\n",
       "  background-color: var(--sklearn-color-fitted-level-2);\n",
       "}\n",
       "\n",
       "#sk-container-id-1 div.sk-label label.sk-toggleable__label,\n",
       "#sk-container-id-1 div.sk-label label {\n",
       "  /* The background is the default theme color */\n",
       "  color: var(--sklearn-color-text-on-default-background);\n",
       "}\n",
       "\n",
       "/* On hover, darken the color of the background */\n",
       "#sk-container-id-1 div.sk-label:hover label.sk-toggleable__label {\n",
       "  color: var(--sklearn-color-text);\n",
       "  background-color: var(--sklearn-color-unfitted-level-2);\n",
       "}\n",
       "\n",
       "/* Label box, darken color on hover, fitted */\n",
       "#sk-container-id-1 div.sk-label.fitted:hover label.sk-toggleable__label.fitted {\n",
       "  color: var(--sklearn-color-text);\n",
       "  background-color: var(--sklearn-color-fitted-level-2);\n",
       "}\n",
       "\n",
       "/* Estimator label */\n",
       "\n",
       "#sk-container-id-1 div.sk-label label {\n",
       "  font-family: monospace;\n",
       "  font-weight: bold;\n",
       "  display: inline-block;\n",
       "  line-height: 1.2em;\n",
       "}\n",
       "\n",
       "#sk-container-id-1 div.sk-label-container {\n",
       "  text-align: center;\n",
       "}\n",
       "\n",
       "/* Estimator-specific */\n",
       "#sk-container-id-1 div.sk-estimator {\n",
       "  font-family: monospace;\n",
       "  border: 1px dotted var(--sklearn-color-border-box);\n",
       "  border-radius: 0.25em;\n",
       "  box-sizing: border-box;\n",
       "  margin-bottom: 0.5em;\n",
       "  /* unfitted */\n",
       "  background-color: var(--sklearn-color-unfitted-level-0);\n",
       "}\n",
       "\n",
       "#sk-container-id-1 div.sk-estimator.fitted {\n",
       "  /* fitted */\n",
       "  background-color: var(--sklearn-color-fitted-level-0);\n",
       "}\n",
       "\n",
       "/* on hover */\n",
       "#sk-container-id-1 div.sk-estimator:hover {\n",
       "  /* unfitted */\n",
       "  background-color: var(--sklearn-color-unfitted-level-2);\n",
       "}\n",
       "\n",
       "#sk-container-id-1 div.sk-estimator.fitted:hover {\n",
       "  /* fitted */\n",
       "  background-color: var(--sklearn-color-fitted-level-2);\n",
       "}\n",
       "\n",
       "/* Specification for estimator info (e.g. \"i\" and \"?\") */\n",
       "\n",
       "/* Common style for \"i\" and \"?\" */\n",
       "\n",
       ".sk-estimator-doc-link,\n",
       "a:link.sk-estimator-doc-link,\n",
       "a:visited.sk-estimator-doc-link {\n",
       "  float: right;\n",
       "  font-size: smaller;\n",
       "  line-height: 1em;\n",
       "  font-family: monospace;\n",
       "  background-color: var(--sklearn-color-background);\n",
       "  border-radius: 1em;\n",
       "  height: 1em;\n",
       "  width: 1em;\n",
       "  text-decoration: none !important;\n",
       "  margin-left: 0.5em;\n",
       "  text-align: center;\n",
       "  /* unfitted */\n",
       "  border: var(--sklearn-color-unfitted-level-1) 1pt solid;\n",
       "  color: var(--sklearn-color-unfitted-level-1);\n",
       "}\n",
       "\n",
       ".sk-estimator-doc-link.fitted,\n",
       "a:link.sk-estimator-doc-link.fitted,\n",
       "a:visited.sk-estimator-doc-link.fitted {\n",
       "  /* fitted */\n",
       "  border: var(--sklearn-color-fitted-level-1) 1pt solid;\n",
       "  color: var(--sklearn-color-fitted-level-1);\n",
       "}\n",
       "\n",
       "/* On hover */\n",
       "div.sk-estimator:hover .sk-estimator-doc-link:hover,\n",
       ".sk-estimator-doc-link:hover,\n",
       "div.sk-label-container:hover .sk-estimator-doc-link:hover,\n",
       ".sk-estimator-doc-link:hover {\n",
       "  /* unfitted */\n",
       "  background-color: var(--sklearn-color-unfitted-level-3);\n",
       "  color: var(--sklearn-color-background);\n",
       "  text-decoration: none;\n",
       "}\n",
       "\n",
       "div.sk-estimator.fitted:hover .sk-estimator-doc-link.fitted:hover,\n",
       ".sk-estimator-doc-link.fitted:hover,\n",
       "div.sk-label-container:hover .sk-estimator-doc-link.fitted:hover,\n",
       ".sk-estimator-doc-link.fitted:hover {\n",
       "  /* fitted */\n",
       "  background-color: var(--sklearn-color-fitted-level-3);\n",
       "  color: var(--sklearn-color-background);\n",
       "  text-decoration: none;\n",
       "}\n",
       "\n",
       "/* Span, style for the box shown on hovering the info icon */\n",
       ".sk-estimator-doc-link span {\n",
       "  display: none;\n",
       "  z-index: 9999;\n",
       "  position: relative;\n",
       "  font-weight: normal;\n",
       "  right: .2ex;\n",
       "  padding: .5ex;\n",
       "  margin: .5ex;\n",
       "  width: min-content;\n",
       "  min-width: 20ex;\n",
       "  max-width: 50ex;\n",
       "  color: var(--sklearn-color-text);\n",
       "  box-shadow: 2pt 2pt 4pt #999;\n",
       "  /* unfitted */\n",
       "  background: var(--sklearn-color-unfitted-level-0);\n",
       "  border: .5pt solid var(--sklearn-color-unfitted-level-3);\n",
       "}\n",
       "\n",
       ".sk-estimator-doc-link.fitted span {\n",
       "  /* fitted */\n",
       "  background: var(--sklearn-color-fitted-level-0);\n",
       "  border: var(--sklearn-color-fitted-level-3);\n",
       "}\n",
       "\n",
       ".sk-estimator-doc-link:hover span {\n",
       "  display: block;\n",
       "}\n",
       "\n",
       "/* \"?\"-specific style due to the `<a>` HTML tag */\n",
       "\n",
       "#sk-container-id-1 a.estimator_doc_link {\n",
       "  float: right;\n",
       "  font-size: 1rem;\n",
       "  line-height: 1em;\n",
       "  font-family: monospace;\n",
       "  background-color: var(--sklearn-color-background);\n",
       "  border-radius: 1rem;\n",
       "  height: 1rem;\n",
       "  width: 1rem;\n",
       "  text-decoration: none;\n",
       "  /* unfitted */\n",
       "  color: var(--sklearn-color-unfitted-level-1);\n",
       "  border: var(--sklearn-color-unfitted-level-1) 1pt solid;\n",
       "}\n",
       "\n",
       "#sk-container-id-1 a.estimator_doc_link.fitted {\n",
       "  /* fitted */\n",
       "  border: var(--sklearn-color-fitted-level-1) 1pt solid;\n",
       "  color: var(--sklearn-color-fitted-level-1);\n",
       "}\n",
       "\n",
       "/* On hover */\n",
       "#sk-container-id-1 a.estimator_doc_link:hover {\n",
       "  /* unfitted */\n",
       "  background-color: var(--sklearn-color-unfitted-level-3);\n",
       "  color: var(--sklearn-color-background);\n",
       "  text-decoration: none;\n",
       "}\n",
       "\n",
       "#sk-container-id-1 a.estimator_doc_link.fitted:hover {\n",
       "  /* fitted */\n",
       "  background-color: var(--sklearn-color-fitted-level-3);\n",
       "}\n",
       "</style><div id=\"sk-container-id-1\" class=\"sk-top-container\"><div class=\"sk-text-repr-fallback\"><pre>LogisticRegression(max_iter=1000)</pre><b>In a Jupyter environment, please rerun this cell to show the HTML representation or trust the notebook. <br />On GitHub, the HTML representation is unable to render, please try loading this page with nbviewer.org.</b></div><div class=\"sk-container\" hidden><div class=\"sk-item\"><div class=\"sk-estimator fitted sk-toggleable\"><input class=\"sk-toggleable__control sk-hidden--visually\" id=\"sk-estimator-id-1\" type=\"checkbox\" checked><label for=\"sk-estimator-id-1\" class=\"sk-toggleable__label fitted sk-toggleable__label-arrow\"><div><div>LogisticRegression</div></div><div><a class=\"sk-estimator-doc-link fitted\" rel=\"noreferrer\" target=\"_blank\" href=\"https://scikit-learn.org/1.6/modules/generated/sklearn.linear_model.LogisticRegression.html\">?<span>Documentation for LogisticRegression</span></a><span class=\"sk-estimator-doc-link fitted\">i<span>Fitted</span></span></div></label><div class=\"sk-toggleable__content fitted\"><pre>LogisticRegression(max_iter=1000)</pre></div> </div></div></div></div>"
      ],
      "text/plain": [
       "LogisticRegression(max_iter=1000)"
      ]
     },
     "execution_count": 37,
     "metadata": {},
     "output_type": "execute_result"
    }
   ],
   "source": [
    "from sklearn.linear_model import LogisticRegression\n",
    "from sklearn.ensemble import RandomForestClassifier\n",
    "from sklearn.model_selection import GridSearchCV\n",
    "import joblib\n",
    "\n",
    "# Try Logistic Regression\n",
    "log_model = LogisticRegression(max_iter=1000)\n",
    "log_model.fit(X_train_dense, y_train)\n"
   ]
  },
  {
   "cell_type": "code",
   "execution_count": 38,
   "id": "1168d7e2-3e00-4bab-b123-7c9373bfcfa3",
   "metadata": {},
   "outputs": [
    {
     "data": {
      "text/plain": [
       "['naive_bayes_fake_news.pkl']"
      ]
     },
     "execution_count": 38,
     "metadata": {},
     "output_type": "execute_result"
    }
   ],
   "source": [
    "# Save model\n",
    "joblib.dump(mnb, 'naive_bayes_fake_news.pkl')"
   ]
  },
  {
   "cell_type": "code",
   "execution_count": 39,
   "id": "d2357b6b-3780-4b7f-82cb-bd555401fda9",
   "metadata": {},
   "outputs": [
    {
     "data": {
      "text/plain": [
       "['naive_bayes_fake_news.pkl']"
      ]
     },
     "execution_count": 39,
     "metadata": {},
     "output_type": "execute_result"
    }
   ],
   "source": [
    "joblib.dump(bnb, 'naive_bayes_fake_news.pkl')"
   ]
  },
  {
   "cell_type": "code",
   "execution_count": 40,
   "id": "788e49a4-57ce-4ed0-8ead-2b686380fa67",
   "metadata": {},
   "outputs": [
    {
     "data": {
      "text/plain": [
       "['naive_bayes_fake_news.pkl']"
      ]
     },
     "execution_count": 40,
     "metadata": {},
     "output_type": "execute_result"
    }
   ],
   "source": [
    "joblib.dump(gnb, 'naive_bayes_fake_news.pkl')"
   ]
  },
  {
   "cell_type": "code",
   "execution_count": null,
   "id": "0c367a0f-148e-4367-a205-8a7ba5cefbbd",
   "metadata": {},
   "outputs": [],
   "source": []
  },
  {
   "cell_type": "markdown",
   "id": "addd5e9b-0988-4649-bbd6-a5e6cbfbd89b",
   "metadata": {},
   "source": [
    "## Check with other algorithms"
   ]
  },
  {
   "cell_type": "code",
   "execution_count": 41,
   "id": "32e4a922-1378-4ba4-9b20-d42d30715bdc",
   "metadata": {},
   "outputs": [],
   "source": [
    "from sklearn.linear_model import LogisticRegression\n",
    "from sklearn.tree import DecisionTreeClassifier\n",
    "from sklearn.neighbors import KNeighborsClassifier\n",
    "from sklearn.ensemble import RandomForestClassifier"
   ]
  },
  {
   "cell_type": "code",
   "execution_count": 42,
   "id": "cda5d7b8-1e0c-4bad-a2fe-7bd6c61826aa",
   "metadata": {},
   "outputs": [],
   "source": [
    "lrc=LogisticRegression()\n",
    "knc=KNeighborsClassifier()\n",
    "dtc=DecisionTreeClassifier(max_depth=5)\n",
    "rfc=RandomForestClassifier(n_estimators=50,random_state=2)"
   ]
  },
  {
   "cell_type": "code",
   "execution_count": 43,
   "id": "b304115f-422c-4e4b-af9c-3528adc23a30",
   "metadata": {},
   "outputs": [],
   "source": [
    "clfs={\n",
    "    \"LR\":lrc,\n",
    "    \"KN\":knc,\n",
    "    \"DT\":dtc,\n",
    "    \"RF\":rfc,\n",
    "    \"BNB\":bnb\n",
    "}"
   ]
  },
  {
   "cell_type": "code",
   "execution_count": 44,
   "id": "26429091-2ebb-4e17-ab84-d9968f78fdc4",
   "metadata": {},
   "outputs": [],
   "source": [
    "def train_classifier(clf,X_train_dense,y_train,X_test_dense,y_test):\n",
    "    clf.fit(X_train_dense,y_train)\n",
    "    y_pred=clf.predict(X_test_dense)\n",
    "    accuracy=accuracy_score(y_test,y_pred)\n",
    "    precision = precision_score(y_test,y_pred)\n",
    "    return accuracy,precision"
   ]
  },
  {
   "cell_type": "code",
   "execution_count": 45,
   "id": "262c1fe9-9555-4a4f-88d9-ceedd9b751e2",
   "metadata": {},
   "outputs": [
    {
     "data": {
      "text/plain": [
       "(0.9625195793242336, 0.9574316290130797)"
      ]
     },
     "execution_count": 45,
     "metadata": {},
     "output_type": "execute_result"
    }
   ],
   "source": [
    "train_classifier(bnb,X_train_dense,y_train,X_test_dense,y_test)"
   ]
  },
  {
   "cell_type": "code",
   "execution_count": 46,
   "id": "e8132c82-3f26-42d3-87a5-f5776e82083d",
   "metadata": {},
   "outputs": [],
   "source": [
    "accuracy_scores=[]\n",
    "precision_scores=[]\n",
    "for name,clf in clfs.items():\n",
    "    accu,prec=train_classifier(clf,X_train_dense,y_train,X_test_dense,y_test)\n",
    "    accuracy_scores.append(accu)\n",
    "    precision_scores.append(prec)"
   ]
  },
  {
   "cell_type": "code",
   "execution_count": 47,
   "id": "6738a17b-5a21-4055-947a-0b60123e4a17",
   "metadata": {},
   "outputs": [],
   "source": [
    "performance_df_cv=pd.DataFrame({\"Algorithm\":clfs.keys(),\"Accuracy_score\":accuracy_scores,\"Precision_score\":precision_scores})"
   ]
  },
  {
   "cell_type": "code",
   "execution_count": 48,
   "id": "76117a5a-2114-4e92-8b2c-486416bbaaae",
   "metadata": {},
   "outputs": [
    {
     "data": {
      "text/html": [
       "<div>\n",
       "<style scoped>\n",
       "    .dataframe tbody tr th:only-of-type {\n",
       "        vertical-align: middle;\n",
       "    }\n",
       "\n",
       "    .dataframe tbody tr th {\n",
       "        vertical-align: top;\n",
       "    }\n",
       "\n",
       "    .dataframe thead th {\n",
       "        text-align: right;\n",
       "    }\n",
       "</style>\n",
       "<table border=\"1\" class=\"dataframe\">\n",
       "  <thead>\n",
       "    <tr style=\"text-align: right;\">\n",
       "      <th></th>\n",
       "      <th>Algorithm</th>\n",
       "      <th>Accuracy_score</th>\n",
       "      <th>Precision_score</th>\n",
       "    </tr>\n",
       "  </thead>\n",
       "  <tbody>\n",
       "    <tr>\n",
       "      <th>0</th>\n",
       "      <td>LR</td>\n",
       "      <td>0.986910</td>\n",
       "      <td>0.981293</td>\n",
       "    </tr>\n",
       "    <tr>\n",
       "      <th>1</th>\n",
       "      <td>KN</td>\n",
       "      <td>0.723092</td>\n",
       "      <td>0.937917</td>\n",
       "    </tr>\n",
       "    <tr>\n",
       "      <th>2</th>\n",
       "      <td>DT</td>\n",
       "      <td>0.994070</td>\n",
       "      <td>0.990264</td>\n",
       "    </tr>\n",
       "    <tr>\n",
       "      <th>3</th>\n",
       "      <td>RF</td>\n",
       "      <td>0.997427</td>\n",
       "      <td>0.995946</td>\n",
       "    </tr>\n",
       "    <tr>\n",
       "      <th>4</th>\n",
       "      <td>BNB</td>\n",
       "      <td>0.962520</td>\n",
       "      <td>0.957432</td>\n",
       "    </tr>\n",
       "  </tbody>\n",
       "</table>\n",
       "</div>"
      ],
      "text/plain": [
       "  Algorithm  Accuracy_score  Precision_score\n",
       "0        LR        0.986910         0.981293\n",
       "1        KN        0.723092         0.937917\n",
       "2        DT        0.994070         0.990264\n",
       "3        RF        0.997427         0.995946\n",
       "4       BNB        0.962520         0.957432"
      ]
     },
     "execution_count": 48,
     "metadata": {},
     "output_type": "execute_result"
    }
   ],
   "source": [
    "performance_df_cv"
   ]
  },
  {
   "cell_type": "markdown",
   "id": "187fb898-7f0c-44ff-9b0b-2fc8fbe6c6f6",
   "metadata": {},
   "source": [
    "# Model improvement"
   ]
  },
  {
   "cell_type": "code",
   "execution_count": 49,
   "id": "2e888471-79f6-4ccc-b247-dfe0b7008df5",
   "metadata": {},
   "outputs": [],
   "source": [
    "from sklearn.feature_extraction.text import TfidfVectorizer\n",
    "tfidf=TfidfVectorizer()"
   ]
  },
  {
   "cell_type": "code",
   "execution_count": 50,
   "id": "e62b95a8-bc56-4a81-aa68-e64f8da164ef",
   "metadata": {},
   "outputs": [
    {
     "data": {
      "text/plain": [
       "array([[0., 0., 0., ..., 0., 0., 0.],\n",
       "       [0., 0., 0., ..., 0., 0., 0.],\n",
       "       [0., 0., 0., ..., 0., 0., 0.],\n",
       "       ...,\n",
       "       [0., 0., 0., ..., 0., 0., 0.],\n",
       "       [0., 0., 0., ..., 0., 0., 0.],\n",
       "       [0., 0., 0., ..., 0., 0., 0.]])"
      ]
     },
     "execution_count": 50,
     "metadata": {},
     "output_type": "execute_result"
    }
   ],
   "source": [
    "X_train_dense"
   ]
  },
  {
   "cell_type": "code",
   "execution_count": 51,
   "id": "15baeb36-8a88-4a30-8a7f-c5e9f2d3fe1a",
   "metadata": {},
   "outputs": [
    {
     "data": {
      "text/plain": [
       "array([[0., 0., 0., ..., 0., 0., 0.],\n",
       "       [0., 0., 0., ..., 0., 0., 0.],\n",
       "       [0., 0., 0., ..., 0., 0., 0.],\n",
       "       ...,\n",
       "       [0., 0., 0., ..., 0., 0., 0.],\n",
       "       [0., 0., 0., ..., 0., 0., 0.],\n",
       "       [0., 0., 0., ..., 0., 0., 0.]])"
      ]
     },
     "execution_count": 51,
     "metadata": {},
     "output_type": "execute_result"
    }
   ],
   "source": [
    "X_test_dense"
   ]
  },
  {
   "cell_type": "code",
   "execution_count": 52,
   "id": "8ddc1303-42fc-4f9e-b36a-1918137da389",
   "metadata": {},
   "outputs": [],
   "source": [
    "clfs_tfidf={\n",
    "    \"LR\":lrc,\n",
    "    \"KN\":knc,\n",
    "    \"DT\":dtc,\n",
    "    \"RF\":rfc,\n",
    "    \"BNB\":bnb,\n",
    "    \"MNB\":mnb\n",
    "    \n",
    "}"
   ]
  },
  {
   "cell_type": "code",
   "execution_count": 53,
   "id": "0f47dff9-9c70-438b-a048-b405f9927902",
   "metadata": {},
   "outputs": [],
   "source": [
    "accuracy_scores_tfidf=[]\n",
    "precision_scores_tfidf=[]\n",
    "for name,clf in clfs_tfidf.items():\n",
    "    accu,prec=train_classifier(clf,X_train_dense,y_train,X_test_dense,y_test)\n",
    "    accuracy_scores_tfidf.append(accu)\n",
    "    precision_scores_tfidf.append(prec)"
   ]
  },
  {
   "cell_type": "code",
   "execution_count": 54,
   "id": "2e13c9fa-6c86-4068-9d66-a83f5eedaf95",
   "metadata": {},
   "outputs": [],
   "source": [
    "performance_df_tfidf=pd.DataFrame({\"Algorithm\":clfs_tfidf.keys(),\"Accuracy_score\":accuracy_scores_tfidf,\"Precision_score\":precision_scores_tfidf})"
   ]
  },
  {
   "cell_type": "code",
   "execution_count": 55,
   "id": "b40d7b27-b75c-448b-b55a-09bf69a32887",
   "metadata": {},
   "outputs": [
    {
     "data": {
      "text/html": [
       "<div>\n",
       "<style scoped>\n",
       "    .dataframe tbody tr th:only-of-type {\n",
       "        vertical-align: middle;\n",
       "    }\n",
       "\n",
       "    .dataframe tbody tr th {\n",
       "        vertical-align: top;\n",
       "    }\n",
       "\n",
       "    .dataframe thead th {\n",
       "        text-align: right;\n",
       "    }\n",
       "</style>\n",
       "<table border=\"1\" class=\"dataframe\">\n",
       "  <thead>\n",
       "    <tr style=\"text-align: right;\">\n",
       "      <th></th>\n",
       "      <th>Algorithm</th>\n",
       "      <th>Accuracy_score</th>\n",
       "      <th>Precision_score</th>\n",
       "    </tr>\n",
       "  </thead>\n",
       "  <tbody>\n",
       "    <tr>\n",
       "      <th>0</th>\n",
       "      <td>LR</td>\n",
       "      <td>0.986910</td>\n",
       "      <td>0.981293</td>\n",
       "    </tr>\n",
       "    <tr>\n",
       "      <th>1</th>\n",
       "      <td>KN</td>\n",
       "      <td>0.723092</td>\n",
       "      <td>0.937917</td>\n",
       "    </tr>\n",
       "    <tr>\n",
       "      <th>2</th>\n",
       "      <td>DT</td>\n",
       "      <td>0.994070</td>\n",
       "      <td>0.990264</td>\n",
       "    </tr>\n",
       "    <tr>\n",
       "      <th>3</th>\n",
       "      <td>RF</td>\n",
       "      <td>0.997427</td>\n",
       "      <td>0.995946</td>\n",
       "    </tr>\n",
       "    <tr>\n",
       "      <th>4</th>\n",
       "      <td>GNB</td>\n",
       "      <td>0.908816</td>\n",
       "      <td>0.900166</td>\n",
       "    </tr>\n",
       "    <tr>\n",
       "      <th>5</th>\n",
       "      <td>BNB</td>\n",
       "      <td>0.962520</td>\n",
       "      <td>0.957432</td>\n",
       "    </tr>\n",
       "    <tr>\n",
       "      <th>6</th>\n",
       "      <td>MNB</td>\n",
       "      <td>0.930298</td>\n",
       "      <td>0.927456</td>\n",
       "    </tr>\n",
       "  </tbody>\n",
       "</table>\n",
       "</div>"
      ],
      "text/plain": [
       "  Algorithm  Accuracy_score  Precision_score\n",
       "0        LR        0.986910         0.981293\n",
       "1        KN        0.723092         0.937917\n",
       "2        DT        0.994070         0.990264\n",
       "3        RF        0.997427         0.995946\n",
       "4       GNB        0.908816         0.900166\n",
       "5       BNB        0.962520         0.957432\n",
       "6       MNB        0.930298         0.927456"
      ]
     },
     "execution_count": 55,
     "metadata": {},
     "output_type": "execute_result"
    }
   ],
   "source": [
    "performance_df_tfidf"
   ]
  }
 ],
 "metadata": {
  "kernelspec": {
   "display_name": "Python 3 (ipykernel)",
   "language": "python",
   "name": "python3"
  },
  "language_info": {
   "codemirror_mode": {
    "name": "ipython",
    "version": 3
   },
   "file_extension": ".py",
   "mimetype": "text/x-python",
   "name": "python",
   "nbconvert_exporter": "python",
   "pygments_lexer": "ipython3",
   "version": "3.12.7"
  }
 },
 "nbformat": 4,
 "nbformat_minor": 5
}
